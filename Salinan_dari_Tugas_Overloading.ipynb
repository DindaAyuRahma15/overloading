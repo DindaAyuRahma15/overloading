{
  "nbformat": 4,
  "nbformat_minor": 0,
  "metadata": {
    "colab": {
      "provenance": [],
      "include_colab_link": true
    },
    "kernelspec": {
      "name": "python3",
      "display_name": "Python 3"
    },
    "language_info": {
      "name": "python"
    }
  },
  "cells": [
    {
      "cell_type": "markdown",
      "metadata": {
        "id": "view-in-github",
        "colab_type": "text"
      },
      "source": [
        "<a href=\"https://colab.research.google.com/github/DindaAyuRahma15/overloading/blob/main/Salinan_dari_Tugas_Overloading.ipynb\" target=\"_parent\"><img src=\"https://colab.research.google.com/assets/colab-badge.svg\" alt=\"Open In Colab\"/></a>"
      ]
    },
    {
      "cell_type": "code",
      "execution_count": 3,
      "metadata": {
        "id": "cytAUNWzM1-6"
      },
      "outputs": [],
      "source": [
        "#Buat Perkalian yang memiliki Sebuah fungsi dangan nama Hitung\n",
        "class Perkalian:\n",
        "  def Hitung(self, *args):\n",
        "    if (len(args) <= 3):\n",
        "        sum = 2\n",
        "        for num in args:\n",
        "            sum *= num\n",
        "        print(sum)\n",
        "    else:\n",
        "        print(\"Maksimum 3\")\n"
      ]
    },
    {
      "cell_type": "code",
      "source": [
        "coba = Perkalian()\n",
        "coba.Hitung(2, 4)\n",
        "coba.Hitung(2, 4, 6)\n",
        "coba.Hitung(2,4, 6, 8)"
      ],
      "metadata": {
        "id": "W9hN-kX7PDUI",
        "colab": {
          "base_uri": "https://localhost:8080/"
        },
        "outputId": "9e978cd0-bbb3-43f5-acff-b6d35b123d6c"
      },
      "execution_count": 4,
      "outputs": [
        {
          "output_type": "stream",
          "name": "stdout",
          "text": [
            "16\n",
            "96\n",
            "Maksimum 3\n"
          ]
        }
      ]
    }
  ]
}