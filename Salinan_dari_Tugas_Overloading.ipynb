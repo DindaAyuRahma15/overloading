{
  "nbformat": 4,
  "nbformat_minor": 0,
  "metadata": {
    "colab": {
      "provenance": [],
      "include_colab_link": true
    },
    "kernelspec": {
      "name": "python3",
      "display_name": "Python 3"
    },
    "language_info": {
      "name": "python"
    }
  },
  "cells": [
    {
      "cell_type": "markdown",
      "metadata": {
        "id": "view-in-github",
        "colab_type": "text"
      },
      "source": [
        "<a href=\"https://colab.research.google.com/github/DindaAyuRahma15/overloading/blob/main/Salinan_dari_Tugas_Overloading.ipynb\" target=\"_parent\"><img src=\"https://colab.research.google.com/assets/colab-badge.svg\" alt=\"Open In Colab\"/></a>"
      ]
    },
    {
      "cell_type": "code",
      "execution_count": 1,
      "metadata": {
        "id": "cytAUNWzM1-6"
      },
      "outputs": [],
      "source": [
        "#Buat Perkalian yang memiliki Sebuah fungsi dangan nama Hitung\n",
        "#method hasil() dengan variasi parameter\n",
        "class Perkalian:\n",
        "  def hitung(self, *args):\n",
        "    sum = 1\n",
        "    for num in args:\n",
        "        sum += num\n",
        "    print (sum)\n"
      ]
    },
    {
      "cell_type": "code",
      "source": [
        "#Buat main program\n",
        "c = Perkalian()\n",
        "#Panggil fungsi Hitung untuk menghitung 2 parameter\n",
        "c.hitung(1504, 2007)\n",
        "#Panggil fungsi Hitung untuk menghitung 3 parameter\n",
        "c.hitung(1310, 2006, 2702)\n",
        "#Panggil fungsi Hitung untuk menghitung 4 parameter\n",
        "c.hitung(1504, 1310, 2702, 2709)"
      ],
      "metadata": {
        "id": "W9hN-kX7PDUI",
        "colab": {
          "base_uri": "https://localhost:8080/"
        },
        "outputId": "5f6f68f0-263e-45b1-f332-42bdc5fc2a05"
      },
      "execution_count": 3,
      "outputs": [
        {
          "output_type": "stream",
          "name": "stdout",
          "text": [
            "3512\n",
            "6019\n",
            "8226\n"
          ]
        }
      ]
    }
  ]
}