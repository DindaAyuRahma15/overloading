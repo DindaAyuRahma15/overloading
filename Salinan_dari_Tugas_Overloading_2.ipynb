{
  "nbformat": 4,
  "nbformat_minor": 0,
  "metadata": {
    "colab": {
      "provenance": [],
      "include_colab_link": true
    },
    "kernelspec": {
      "name": "python3",
      "display_name": "Python 3"
    },
    "language_info": {
      "name": "python"
    }
  },
  "cells": [
    {
      "cell_type": "markdown",
      "metadata": {
        "id": "view-in-github",
        "colab_type": "text"
      },
      "source": [
        "<a href=\"https://colab.research.google.com/github/DindaAyuRahma15/overloading/blob/main/Salinan_dari_Tugas_Overloading_2.ipynb\" target=\"_parent\"><img src=\"https://colab.research.google.com/assets/colab-badge.svg\" alt=\"Open In Colab\"/></a>"
      ]
    },
    {
      "cell_type": "code",
      "execution_count": 1,
      "metadata": {
        "id": "5zCytCeM1uD4"
      },
      "outputs": [],
      "source": [
        "class nama:\n",
        "  def hasil(self, num1=\" \", num2=\" \", num3=\" \", num4=\" \"):\n",
        "    print(num1 + num2 + num3 + num4)\n",
        "#Buat fungsi yang digunakan untuk mengabungkan nama dengan ketentuan nama depan, nama tengah, nama akhir, dan seterusnya dianggap 1 (satu) parameter"
      ]
    },
    {
      "cell_type": "code",
      "source": [
        "coba = nama()\n",
        "\n",
        "coba.hasil(\"dinda \", \"ayu \", \"rahma \", \"maulidya\")\n",
        "coba.hasil(\"clarissa \", \"wulan\", \"dari\")\n",
        "coba.hasil(\"anila \", \"yaffa \", \"zafirah\")\n",
        "coba.hasil(\"anisa \", \"yaffa \", \"zafirah\")\n",
        "#Panggil fungsi untuk membuat nama lengkap 4 nama teman kalian"
      ],
      "metadata": {
        "id": "liQBcJWZ12MN",
        "colab": {
          "base_uri": "https://localhost:8080/"
        },
        "outputId": "940eabcd-eecb-4e45-b664-2f6a362362e1"
      },
      "execution_count": 2,
      "outputs": [
        {
          "output_type": "stream",
          "name": "stdout",
          "text": [
            "dinda ayu rahma maulidya\n",
            "clarissa wulandari \n",
            "anila yaffa zafirah \n",
            "anisa yaffa zafirah \n"
          ]
        }
      ]
    },
    {
      "cell_type": "code",
      "source": [
        "Materi overloading saat ini, menurut saya bisa membuat method dengan banyak parameter atau variasi parameter. kita bisa menggunakan 2 trik macam yaitu menggunakan variabel"
      ],
      "metadata": {
        "id": "xwFmppIG3JGE",
        "colab": {
          "base_uri": "https://localhost:8080/",
          "height": 158
        },
        "outputId": "a51772fe-08c7-4fe8-c5bf-449a4d2f7ad8"
      },
      "execution_count": 3,
      "outputs": [
        {
          "output_type": "error",
          "ename": "SyntaxError",
          "evalue": "ignored",
          "traceback": [
            "\u001b[0;36m  File \u001b[0;32m\"<ipython-input-3-ad8afa9ca20d>\"\u001b[0;36m, line \u001b[0;32m1\u001b[0m\n\u001b[0;31m    Materi overloading saat ini, menurut saya bisa membuat method dengan banyak parameter atau variasi parameter. kita bisa menggunakan 2 trik macam yaitu menggunakan variabel\u001b[0m\n\u001b[0m           ^\u001b[0m\n\u001b[0;31mSyntaxError\u001b[0m\u001b[0;31m:\u001b[0m invalid syntax\n"
          ]
        }
      ]
    }
  ]
}